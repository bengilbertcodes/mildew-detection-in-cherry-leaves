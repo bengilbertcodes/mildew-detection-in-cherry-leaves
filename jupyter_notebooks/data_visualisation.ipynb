{
  "cells": [
    {
      "cell_type": "markdown",
      "metadata": {
        "id": "0aStgWSO0E0E"
      },
      "source": [
        "# **Data Visualisation Notebook**"
      ]
    },
    {
      "cell_type": "markdown",
      "metadata": {
        "id": "1eLEkw5O0ECa"
      },
      "source": [
        "## Objectives\n",
        "\n",
        "* Answer Business Requirement:\n",
        "    - The client is interested in conducting a study to visually differentiate a healthy cherry leaf from one with powdery mildew.\n",
        "\n",
        "## Inputs\n",
        "\n",
        "* /workspace/mildew-detection-in-cherry-leaves/inputs/datasets/raw/cherry-leaves/train\n",
        "* /workspace/mildew-detection-in-cherry-leaves/inputs/datasets/raw/cherry-leaves/validation\n",
        "* /workspace/mildew-detection-in-cherry-leaves/inputs/datasets/raw/cherry-leaves/test\n",
        "\n",
        "## Outputs\n",
        "\n",
        "* Compute average image size from the train set. As input size determines the CNN architecture it is important for all input images to be the same size.\n",
        "* Image shape embedded in a .pkl file.\n",
        "* Plot mean and variability of images per label plot.\n",
        "* Plot to distinguish the contrast between healthy cherry leaves and those infected with powdery mildew.\n",
        "* Code that answers business requirement 1 and can be used to build an image montage on the Streamlit dashboard. \n",
        "\n",
        "## Comments | Insights | Conclusions\n",
        "\n",
        "* These steps are necessary to further understand and prepare the data before it is provided for the CNN.\n",
        "* Data will be visually arranged as requested by the client.\n",
        "\n"
      ]
    },
    {
      "cell_type": "markdown",
      "metadata": {
        "id": "9uWZXH9LwoQg"
      },
      "source": [
        "---"
      ]
    },
    {
      "cell_type": "markdown",
      "metadata": {},
      "source": [
        "### Import libraries"
      ]
    },
    {
      "cell_type": "code",
      "execution_count": 1,
      "metadata": {},
      "outputs": [],
      "source": [
        "import os\n",
        "import pandas as pd\n",
        "import numpy as np\n",
        "import matplotlib.pyplot as plt\n",
        "import seaborn as sns\n",
        "import joblib\n",
        "sns.set_style('white')\n",
        "from matplotlib.image import imread"
      ]
    },
    {
      "cell_type": "markdown",
      "metadata": {
        "id": "cqP-UeN-z3i2"
      },
      "source": [
        "### Set working directory"
      ]
    },
    {
      "cell_type": "code",
      "execution_count": null,
      "metadata": {
        "id": "wZfF_j-Bz3i4",
        "outputId": "66943449-1436-4c3d-85c7-b85f9f78349b"
      },
      "outputs": [],
      "source": [
        "current_dir = os.getcwd()\n",
        "current_dir"
      ]
    },
    {
      "cell_type": "code",
      "execution_count": null,
      "metadata": {
        "id": "TwHsQRWjz3i9",
        "outputId": "86849db3-cd2f-4cc5-ebb8-2d0caafa1a2c"
      },
      "outputs": [],
      "source": [
        "os.chdir(os.path.dirname(current_dir))\n",
        "print(\"You set a new current directory\")"
      ]
    },
    {
      "cell_type": "code",
      "execution_count": null,
      "metadata": {
        "id": "vz3S-_kjz3jA",
        "outputId": "00b79ae4-75d0-4a96-d193-ac9ef9847ea2"
      },
      "outputs": [],
      "source": [
        "work_dir = os.getcwd()\n",
        "work_dir"
      ]
    },
    {
      "cell_type": "markdown",
      "metadata": {},
      "source": [
        "### Set input directories\n",
        "\n",
        "Set train, validation and test file paths."
      ]
    },
    {
      "cell_type": "code",
      "execution_count": 5,
      "metadata": {},
      "outputs": [],
      "source": [
        "my_data_dir = 'inputs/datasets/raw/cherry-leaves'\n",
        "train_path = os.path.join(my_data_dir, 'train')\n",
        "val_path = os.path.join(my_data_dir, 'validation')\n",
        "test_path = os.path.join(my_data_dir, 'test')"
      ]
    },
    {
      "cell_type": "markdown",
      "metadata": {},
      "source": [
        "### Set output directory"
      ]
    },
    {
      "cell_type": "code",
      "execution_count": null,
      "metadata": {},
      "outputs": [],
      "source": [
        "version = 'v1'\n",
        "file_path = os.path.join('outputs', version)\n",
        "\n",
        "if 'outputs' in os.listdir(work_dir) and version in os.listdir(os.path.join(work_dir, 'outputs')):\n",
        "    print('Old version is already available. Create a new version')\n",
        "    pass\n",
        "else:\n",
        "    os.makedirs(name=file_path)"
      ]
    },
    {
      "cell_type": "markdown",
      "metadata": {},
      "source": [
        "### Set label names"
      ]
    },
    {
      "cell_type": "code",
      "execution_count": null,
      "metadata": {},
      "outputs": [],
      "source": [
        "labels = os.listdir(train_path)\n",
        "print('Labels for the images are', labels)"
      ]
    },
    {
      "cell_type": "markdown",
      "metadata": {},
      "source": [
        "---"
      ]
    },
    {
      "cell_type": "markdown",
      "metadata": {
        "id": "-mavJ8DibrcQ"
      },
      "source": [
        "# Visualisation of the Image Data"
      ]
    },
    {
      "cell_type": "markdown",
      "metadata": {},
      "source": [
        "---"
      ]
    },
    {
      "cell_type": "markdown",
      "metadata": {},
      "source": [
        "### Image Shape\n",
        "\n",
        "Compute the average image sizes on the 'train' set."
      ]
    },
    {
      "cell_type": "code",
      "execution_count": null,
      "metadata": {},
      "outputs": [],
      "source": [
        "dim1, dim2 = [], []\n",
        "for label in labels:\n",
        "    label_path = os.path.join(train_path, label)\n",
        "    for image_filename in os.listdir(label_path):\n",
        "        image_path = os.path.join(label_path, image_filename)\n",
        "        try:\n",
        "            img = imread(image_path)\n",
        "            d1, d2, _ = img.shape\n",
        "            dim1.append(d1) # image height\n",
        "            dim2.append(d2) # image width\n",
        "        except Exception as e:\n",
        "            print(f\"Error reading {image_path}: {e}\")\n",
        "\n",
        "# Create a Scatterplot\n",
        "sns.set_style(\"whitegrid\")\n",
        "fig, axes = plt.subplots(figsize=(8, 6))\n",
        "sns.scatterplot(x=dim2, y=dim1, alpha=0.2)\n",
        "\n",
        "# Labeling axes and adding title\n",
        "axes.set_xlabel(\"Width (pixels)\")\n",
        "axes.set_ylabel(\"Height (pixels)\")\n",
        "axes.set_title(\"Scatter Plot of Image Dimensions\")\n",
        "\n",
        "# Calculating mean dimensions\n",
        "dim1_mean = int(np.mean(dim1))\n",
        "dim2_mean = int(np.mean(dim2))\n",
        "\n",
        "# Plotting mean lines (corrected labels)\n",
        "axes.axvline(x=dim2_mean, color='r', linestyle='--', label=f'Mean Width: {dim2_mean}')\n",
        "axes.axhline(y=dim1_mean, color='r', linestyle='--', label=f'Mean Height: {dim1_mean}')\n",
        "\n",
        "# Display legend and show the plot\n",
        "axes.legend()\n",
        "plt.show()\n",
        "\n",
        "# Display mean width and height\n",
        "print(f'Width average: {dim2_mean} \\nHeight average: {dim1_mean}')"
      ]
    },
    {
      "cell_type": "markdown",
      "metadata": {},
      "source": [
        "All images contained in the dataset are the same size - 256 x 256 pixels"
      ]
    },
    {
      "cell_type": "code",
      "execution_count": null,
      "metadata": {},
      "outputs": [],
      "source": [
        "image_shape = (dim1_mean, dim2_mean, 3)\n",
        "image_shape"
      ]
    },
    {
      "cell_type": "markdown",
      "metadata": {},
      "source": [
        "### Save the image shape embeddings"
      ]
    },
    {
      "cell_type": "code",
      "execution_count": null,
      "metadata": {},
      "outputs": [],
      "source": [
        "joblib.dump(value=image_shape ,\n",
        "            filename=f\"{file_path}/image_shape.pkl\")"
      ]
    },
    {
      "cell_type": "markdown",
      "metadata": {
        "id": "ZY3l0-AxO93d"
      },
      "source": [
        "---"
      ]
    },
    {
      "cell_type": "markdown",
      "metadata": {
        "id": "uFQo3ycuO-v6"
      },
      "source": [
        "## Average and variability of images per label\n",
        "\n",
        "### Function to load images into an array (tensor)"
      ]
    },
    {
      "cell_type": "code",
      "execution_count": 12,
      "metadata": {},
      "outputs": [],
      "source": [
        "from tensorflow.keras.preprocessing import image\n",
        "\n",
        "def load_image_as_array(my_data_dir, new_size=(50, 50), n_images_per_label=20):\n",
        "    X, y = [], []\n",
        "    labels = os.listdir(my_data_dir)\n",
        "\n",
        "    for label in labels:\n",
        "        counter = 0\n",
        "        image_filenames = os.listdir(os.path.join(my_data_dir, label))  # List images in the label folder\n",
        "\n",
        "        for image_filename in image_filenames:\n",
        "            if counter < n_images_per_label:\n",
        "                img_path = os.path.join(my_data_dir, label, image_filename)\n",
        "                img = image.load_img(img_path, target_size=new_size)\n",
        "                img_array = image.img_to_array(img) / 255.0  # Normalize the image\n",
        "                \n",
        "                X.append(img_array)  # Append the image array to the list\n",
        "                y.append(label)  # Append the label to the list\n",
        "                counter += 1\n",
        "    \n",
        "    X = np.array(X)  # Convert list to array\n",
        "    y = np.array(y)  # Convert list to array\n",
        "    \n",
        "    return X, y"
      ]
    },
    {
      "cell_type": "markdown",
      "metadata": {},
      "source": [
        "### Load image shapes and labels in an array"
      ]
    },
    {
      "cell_type": "code",
      "execution_count": null,
      "metadata": {},
      "outputs": [],
      "source": [
        "X, y = load_image_as_array(my_data_dir=train_path,\n",
        "                           new_size=image_shape,\n",
        "                           n_images_per_label=30)\n",
        "print(X.shape, y.shape)"
      ]
    },
    {
      "cell_type": "markdown",
      "metadata": {},
      "source": [
        "### Plot and save mean and variability of images per label"
      ]
    },
    {
      "cell_type": "code",
      "execution_count": 14,
      "metadata": {},
      "outputs": [],
      "source": [
        "def plot_mean_variability_per_labels(X, y, figsize=(12, 5), save_image=False):\n",
        "    \"\"\"\n",
        "    The pseudo-code for the function is:\n",
        "    * Loop over all labels\n",
        "    * Subset an array for a given label\n",
        "    * Calculate the mean and standard deviation\n",
        "    * Create a figure displaying the mean and variability of images\n",
        "    * Save the image\n",
        "    \"\"\"\n",
        "\n",
        "    for label_to_display in np.unique(y):\n",
        "        sns.set_style(\"white\")\n",
        "\n",
        "        y = y.reshape(-1, 1, 1)\n",
        "        boolean_mask = np.any(y == label_to_display, axis=1).reshape(-1)\n",
        "        arr = X[boolean_mask]\n",
        "\n",
        "        avg_img = np.mean(arr, axis=0)\n",
        "        std_img = np.std(arr, axis=0)\n",
        "        print(f\"==== Label {label_to_display} ====\")\n",
        "        print(f\"Image Shape: {avg_img.shape}\")\n",
        "        fig, axes = plt.subplots(nrows=1, ncols=2, figsize=figsize)\n",
        "        axes[0].set_title(f\"Average image for label {label_to_display}\")\n",
        "        axes[0].imshow(avg_img, cmap='gray')\n",
        "        axes[1].set_title(f\"Variability image for label {label_to_display}\")\n",
        "        axes[1].imshow(std_img, cmap='gray')\n",
        "\n",
        "        if save_image:\n",
        "            plt.savefig(f\"{file_path}/avg_var_{label_to_display}.png\",\n",
        "                        bbox_inches='tight', dpi=150)\n",
        "        else:\n",
        "            plt.tight_layout()\n",
        "            plt.show()\n",
        "            print(\"\\n\")"
      ]
    },
    {
      "cell_type": "code",
      "execution_count": null,
      "metadata": {},
      "outputs": [],
      "source": [
        "plot_mean_variability_per_labels(X=X, y=y, figsize=(12, 5), save_image=True)"
      ]
    },
    {
      "cell_type": "markdown",
      "metadata": {},
      "source": [
        "---"
      ]
    },
    {
      "cell_type": "markdown",
      "metadata": {},
      "source": [
        "### Difference between average powdery mildew infected and average healthy cherry leaves"
      ]
    },
    {
      "cell_type": "code",
      "execution_count": 24,
      "metadata": {},
      "outputs": [],
      "source": [
        "def subset_image_label(X, y, label_to_display):\n",
        "    \"\"\"\n",
        "    Subsets the image array X by selecting only the layers with the specified label.\n",
        "\n",
        "    Args:\n",
        "        X: Array of images\n",
        "        y: Array of labels, reshaped into a column.\n",
        "        label_to_display: The label to filter images by.\n",
        "    \n",
        "    Returns:\n",
        "        Array of images with specified label.\n",
        "    \"\"\"\n",
        "    y = y.reshape(-1, 1, 1)\n",
        "    boolean_mask = np.any(y == label_to_display, axis=1).reshape(-1)\n",
        "    df = X[boolean_mask]\n",
        "\n",
        "    if df.size == 0:\n",
        "        print(f\"No images found for label {label_to_display}\")\n",
        "    return df\n",
        "\n",
        "def diff_bet_avg_image_labels_data_as_array(X, y, label_1, label_2, figsize=(20, 5), save_image=False, cmap='gray'):\n",
        "    \"\"\"\n",
        "    Calculates the average images for two different labels and plots their averages and the difference.\n",
        "\n",
        "    Args:\n",
        "        X: Array of images.\n",
        "        y: Array of labels.\n",
        "        label_1: First label for comparison.\n",
        "        label_2: Second label for comparison.\n",
        "        figsize: Size of the figure for plotting.\n",
        "        save_image: Whether to save the image.\n",
        "        file_path: Path to save the image if `save_image` is True.\n",
        "        cmap: Colormap for the images.\n",
        "\n",
        "    Returns:\n",
        "        None\n",
        "    \"\"\"\n",
        "    sns.set_style(\"white\")\n",
        "\n",
        "    # Check if label exist in y\n",
        "    unique_labels = np.unique(y)\n",
        "    if label_1 not in unique_labels or label_2 not in unique_labels:\n",
        "        print(\n",
        "            f\"Either label {label_1} or label {label_2}, are not in {unique_labels}\")\n",
        "        return\n",
        "    \n",
        "    # calculate mean from label_1\n",
        "    images_label1 = subset_image_label(X, y, label_1)\n",
        "    if images_label1.size == 0:\n",
        "        print(f\"No images found for label {label_1}\")\n",
        "        return\n",
        "    label1_avg = np.mean(images_label1, axis=0)\n",
        "\n",
        "    # calculate mean from label_2\n",
        "    images_label2 = subset_image_label(X, y, label_2)\n",
        "    if images_label2.size == 0:\n",
        "        print(f\"No images found for label {label_2}\")\n",
        "        return\n",
        "    label2_avg = np.mean(images_label2, axis=0)\n",
        "\n",
        "    # Calculate and plot the difference between the averages\n",
        "    difference_mean = label1_avg - label2_avg\n",
        "    fig, axes = plt.subplots(nrows=1, ncols=3, figsize=figsize)\n",
        "    axes[0].imshow(label1_avg, cmap=cmap)\n",
        "    axes[0].set_title(f\"Average {label_1}\")\n",
        "    axes[1].imshow(label2_avg, cmap=cmap)\n",
        "    axes[1].set_title(f\"Average {label_2}\")\n",
        "    axes[2].imshow(difference_mean, cmap=cmap)\n",
        "    axes[2].set_title(f\"Difference image: Avg {label_1} & {label_2}\")\n",
        "\n",
        "    # Save or show the plot\n",
        "    if save_image:\n",
        "        if file_path is None:\n",
        "            print(f\"file_path is not specified. Unable to save the image.\")\n",
        "        else:\n",
        "            plt.savefig(f\"{file_path}/avg_diff.png\", bbox_inches='tight', dpi=150)\n",
        "    else:\n",
        "        plt.tight_layout()\n",
        "        plt.show()\n"
      ]
    },
    {
      "cell_type": "code",
      "execution_count": null,
      "metadata": {},
      "outputs": [],
      "source": [
        "diff_bet_avg_image_labels_data_as_array(X=X, y=y,\n",
        "                                        label_1='healthy', label_2='powdery_mildew',\n",
        "                                        figsize=(13, 5),\n",
        "                                        save_image=True\n",
        "                                        )"
      ]
    },
    {
      "cell_type": "markdown",
      "metadata": {},
      "source": [
        "---"
      ]
    },
    {
      "cell_type": "markdown",
      "metadata": {},
      "source": [
        "### Image Montage"
      ]
    },
    {
      "cell_type": "code",
      "execution_count": 28,
      "metadata": {},
      "outputs": [],
      "source": [
        "import itertools\n",
        "import random\n",
        "sns.set_style(\"white\")\n",
        "\n",
        "\n",
        "def image_montage(dir_path, label_to_display, nrows, ncols, figsize=(15, 10), cmap=None):\n",
        "    \"\"\"\n",
        "    Displays a montage of images from a specific label in a directory.\n",
        "\n",
        "    Args:\n",
        "        dir_path (str): Path to the directory containing the labeled folders of images.\n",
        "        label_to_display (str): The label (folder name) to display the images from.\n",
        "        nrows (int): Number of rows in the montage.\n",
        "        ncols (int): Number of columns in the montage. \n",
        "        figsize (tuple): Size of the enture figure.\n",
        "        cmap (str): Optional colormap for displaying grayscale images.\n",
        "    \n",
        "    Returns:\n",
        "        Displays the image montage or prints an error message if the label or image subset conditions are not met.\n",
        "    \"\"\"\n",
        "\n",
        "    labels = os.listdir(dir_path)\n",
        "    if label_to_display not in labels:\n",
        "        print(f\"The label {label_to_display} does not exist.\")\n",
        "        print(f\"Availalble labels are: {', '.join(labels)}\")\n",
        "        return\n",
        "\n",
        "    # subset the class you are interested in displaying\n",
        "    if label_to_display in labels:\n",
        "\n",
        "        # check if montage space is greater than the subset size\n",
        "        images_list = os.listdir(os.path.join(dir_path, label_to_display))\n",
        "        if nrows * ncols < len(images_list):\n",
        "            img_idx = random.sample(images_list, nrows * ncols)\n",
        "        else:\n",
        "            print(\n",
        "                f\"Decrease nrows or ncols to create your montage. \\n\"\n",
        "                f\"There are {len(images_list)} in your subset. \"\n",
        "                f\"You requested a montage with {nrows * ncols} spaces\")\n",
        "            return\n",
        "        \n",
        "        # Create a list of axes indices based on nrows and ncols\n",
        "        list_rows = range(0, nrows)\n",
        "        list_cols = range(0, ncols)\n",
        "        plot_idx = list(itertools.product(list_rows, list_cols))\n",
        "\n",
        "        # Create a figure and display images\n",
        "        fig, axes = plt.subplots(nrows=nrows, ncols=ncols, figsize=figsize)\n",
        "        for x in range(0, nrows*ncols):\n",
        "            img = imread(os.path.join(dir_path, label_to_display, img_idx[x]))\n",
        "            img_shape = img.shape\n",
        "            axes[plot_idx[x][0], plot_idx[x][1]].imshow(img)\n",
        "            axes[plot_idx[x][0], plot_idx[x][1]].set_title(\n",
        "                f\"Width {img_shape[1]}px x Height {img_shape[0]}px\")\n",
        "            axes[plot_idx[x][0], plot_idx[x][1]].set_xticks([])\n",
        "            axes[plot_idx[x][0], plot_idx[x][1]].set_yticks([])\n",
        "        plt.tight_layout()\n",
        "        plt.show()\n",
        "    \n",
        "    else:\n",
        "        print(\"The label you selected doesn't exist.\")\n",
        "        print(f\"The existing options are: {labels}\")"
      ]
    },
    {
      "cell_type": "markdown",
      "metadata": {},
      "source": [
        "### Run Montage in all Labels"
      ]
    },
    {
      "cell_type": "code",
      "execution_count": null,
      "metadata": {},
      "outputs": [],
      "source": [
        "for label in labels:\n",
        "    print(label)\n",
        "    image_montage(dir_path=val_path,\n",
        "                  label_to_display=label,\n",
        "                  nrows=3, ncols=3,\n",
        "                  figsize=(9, 9)\n",
        "                  )\n",
        "    print(\"\\n\")"
      ]
    },
    {
      "cell_type": "markdown",
      "metadata": {},
      "source": [
        "---"
      ]
    }
  ],
  "metadata": {
    "accelerator": "GPU",
    "colab": {
      "name": "Data Practitioner Jupyter Notebook.ipynb",
      "provenance": [],
      "toc_visible": true
    },
    "interpreter": {
      "hash": "8b8334dab9339717f727a1deaf837b322d7a41c20d15cc86be99a8e69ceec8ce"
    },
    "kernelspec": {
      "display_name": "Python 3.8.12 64-bit ('3.8.12': pyenv)",
      "name": "python3"
    },
    "language_info": {
      "codemirror_mode": {
        "name": "ipython",
        "version": 3
      },
      "file_extension": ".py",
      "mimetype": "text/x-python",
      "name": "python",
      "nbconvert_exporter": "python",
      "pygments_lexer": "ipython3",
      "version": "3.8.18"
    },
    "orig_nbformat": 2
  },
  "nbformat": 4,
  "nbformat_minor": 2
}
